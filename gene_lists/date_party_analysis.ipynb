{
 "cells": [
  {
   "cell_type": "code",
   "execution_count": 16,
   "metadata": {},
   "outputs": [],
   "source": [
    "import os\n",
    "import numpy as np\n",
    "import pandas as pd\n",
    "import matplotlib.pyplot as plt"
   ]
  },
  {
   "cell_type": "code",
   "execution_count": 6,
   "metadata": {},
   "outputs": [
    {
     "data": {
      "text/html": [
       "<div>\n",
       "<style scoped>\n",
       "    .dataframe tbody tr th:only-of-type {\n",
       "        vertical-align: middle;\n",
       "    }\n",
       "\n",
       "    .dataframe tbody tr th {\n",
       "        vertical-align: top;\n",
       "    }\n",
       "\n",
       "    .dataframe thead th {\n",
       "        text-align: right;\n",
       "    }\n",
       "</style>\n",
       "<table border=\"1\" class=\"dataframe\">\n",
       "  <thead>\n",
       "    <tr style=\"text-align: right;\">\n",
       "      <th></th>\n",
       "      <th>nodeID</th>\n",
       "      <th>betweenness centrality</th>\n",
       "      <th>ModuLand bridgeness</th>\n",
       "      <th>log_Cen</th>\n",
       "      <th>log_bridg</th>\n",
       "    </tr>\n",
       "  </thead>\n",
       "  <tbody>\n",
       "    <tr>\n",
       "      <th>0</th>\n",
       "      <td>PSEN2</td>\n",
       "      <td>3175.170110</td>\n",
       "      <td>0.105681</td>\n",
       "      <td>3.501767</td>\n",
       "      <td>-0.976003</td>\n",
       "    </tr>\n",
       "    <tr>\n",
       "      <th>1</th>\n",
       "      <td>CAPN1</td>\n",
       "      <td>204823.184900</td>\n",
       "      <td>23.572490</td>\n",
       "      <td>5.311379</td>\n",
       "      <td>1.372405</td>\n",
       "    </tr>\n",
       "    <tr>\n",
       "      <th>2</th>\n",
       "      <td>HTT</td>\n",
       "      <td>339323.086200</td>\n",
       "      <td>13.819579</td>\n",
       "      <td>5.530613</td>\n",
       "      <td>1.140495</td>\n",
       "    </tr>\n",
       "    <tr>\n",
       "      <th>3</th>\n",
       "      <td>SETD2</td>\n",
       "      <td>2343.498225</td>\n",
       "      <td>0.000441</td>\n",
       "      <td>3.369865</td>\n",
       "      <td>-3.355561</td>\n",
       "    </tr>\n",
       "    <tr>\n",
       "      <th>4</th>\n",
       "      <td>HAP1</td>\n",
       "      <td>482.557821</td>\n",
       "      <td>0.006031</td>\n",
       "      <td>2.683549</td>\n",
       "      <td>-2.219611</td>\n",
       "    </tr>\n",
       "  </tbody>\n",
       "</table>\n",
       "</div>"
      ],
      "text/plain": [
       "  nodeID  betweenness centrality  ModuLand bridgeness   log_Cen  log_bridg\n",
       "0  PSEN2             3175.170110             0.105681  3.501767  -0.976003\n",
       "1  CAPN1           204823.184900            23.572490  5.311379   1.372405\n",
       "2    HTT           339323.086200            13.819579  5.530613   1.140495\n",
       "3  SETD2             2343.498225             0.000441  3.369865  -3.355561\n",
       "4   HAP1              482.557821             0.006031  2.683549  -2.219611"
      ]
     },
     "execution_count": 6,
     "metadata": {},
     "output_type": "execute_result"
    }
   ],
   "source": [
    "centrality_bridgeness_df = pd.read_csv('../moduland_analysis/HSP_centrality_bridgness.csv')\n",
    "centrality_bridgeness_df.head()"
   ]
  },
  {
   "cell_type": "code",
   "execution_count": 18,
   "metadata": {},
   "outputs": [
    {
     "data": {
      "text/plain": [
       "<matplotlib.axes._subplots.AxesSubplot at 0x7f207cea8ac8>"
      ]
     },
     "execution_count": 18,
     "metadata": {},
     "output_type": "execute_result"
    },
    {
     "data": {
      "image/png": "[encoded data removed]",
      "text/plain": [
       "<Figure size 432x288 with 1 Axes>"
      ]
     },
     "metadata": {
      "needs_background": "light"
     },
     "output_type": "display_data"
    }
   ],
   "source": [
    "centrality_bridgeness_df['log_bc_ratio'] = centrality_bridgeness_df.log_bridg / centrality_bridgeness_df.log_Cen\n",
    "centrality_bridgeness_df = centrality_bridgeness_df.sort_values('log_bc_ratio', ascending=False).set_index(np.arange(len(centrality_bridgeness_df.index)))\n",
    "\n",
    "centrality_bridgeness_df.log_bc_ratio.plot()"
   ]
  }
 ],
 "metadata": {
  "kernelspec": {
   "display_name": "Python 3",
   "language": "python",
   "name": "python3"
  },
  "language_info": {
   "codemirror_mode": {
    "name": "ipython",
    "version": 3
   },
   "file_extension": ".py",
   "mimetype": "text/x-python",
   "name": "python",
   "nbconvert_exporter": "python",
   "pygments_lexer": "ipython3",
   "version": "3.6.7"
  }
 },
 "nbformat": 4,
 "nbformat_minor": 2
}
