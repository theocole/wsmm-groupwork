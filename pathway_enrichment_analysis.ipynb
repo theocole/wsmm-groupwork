{
 "cells": [
  {
   "cell_type": "code",
   "execution_count": 4,
   "metadata": {},
   "outputs": [],
   "source": [
    "import os\n",
    "\n",
    "modules = [\"ATXN3\", \"USP8\", \"WDR48\", \"HSPD1\", \"ERLIN2\", \"AIMP1\", \"HTT\", \"CCT5\",\n",
    "\"ATXN2\", \"CDK16\", \"ATXN1\", \"PSEN1\", \"ATXN7\", \"POLR3A\", \"WDR45B\"]      \n"
   ]
  },
  {
   "cell_type": "code",
   "execution_count": 5,
   "metadata": {},
   "outputs": [],
   "source": [
    "# generate a gene list file for each module based on a processed version of the level 0 module report\n",
    "for i in range(len(modules)):\n",
    "    n = str(i+1)\n",
    "    if len(n) == 1:\n",
    "        n = '0' + n\n",
    "    with open(\"moduland_analysis/module_gene_data/{n}_{modules}.txt\".format(n=n, modules=modules[i]), 'a') as f:\n",
    "        with open(\"moduland_analysis/level_0_module_top_10_genes.csv\", 'r') as csv_file:\n",
    "            module_genes = csv_file.readlines()\n",
    "        for module_gene_list in module_genes:\n",
    "            if module_gene_list.startswith(modules[i]):\n",
    "                module_genes = module_gene_list.strip('\\n').split(',')\n",
    "        for module_gene in module_genes:\n",
    "            f.write(module_gene)\n",
    "            f.write('\\n')"
   ]
  },
  {
   "cell_type": "code",
   "execution_count": 9,
   "metadata": {},
   "outputs": [],
   "source": [
    "with open(\"moduland_analysis/per_module_pathway_enrichment.tsv\", 'a') as f:\n",
    "    for i in range(len(modules)):\n",
    "        n = str(i+1)\n",
    "        if len(n) == 1:\n",
    "            n = '0' + n\n",
    "        module = modules[i]\n",
    "        files = os.listdir(\"moduland_analysis/pathway_enrichment_data/\")\n",
    "        files = [os.path.join(\"moduland_analysis\", \"pathway_enrichment_data\", file) for file in files if file.startswith(module)]\n",
    "        header_found = False\n",
    "        for file in files:\n",
    "            file_type = file.split('.')[-2]\n",
    "            with open(file, 'r') as enrichment_csv:\n",
    "                for line in enrichment_csv:\n",
    "                    if not header_found:\n",
    "                        if line.startswith('#pathway'):\n",
    "                            header_found = True\n",
    "                            line = \"module_priority\\tmodule\\tfile_type\\t\" + line \n",
    "                    elif header_found:\n",
    "                        if not line.startswith('#pathway'):\n",
    "                            line = \"{module_priority}\\t{module}\\t{file_type}\\t\".format(module_priority=n, module=module, file_type=file_type) + line\n",
    "                    f.write(line)"
   ]
  }
 ],
 "metadata": {
  "kernelspec": {
   "display_name": "Python 3",
   "language": "python",
   "name": "python3"
  },
  "language_info": {
   "codemirror_mode": {
    "name": "ipython",
    "version": 3
   },
   "file_extension": ".py",
   "mimetype": "text/x-python",
   "name": "python",
   "nbconvert_exporter": "python",
   "pygments_lexer": "ipython3",
   "version": "3.6.7"
  }
 },
 "nbformat": 4,
 "nbformat_minor": 2
}
