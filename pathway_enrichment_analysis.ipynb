{
 "cells": [
  {
   "cell_type": "code",
   "execution_count": 2,
   "metadata": {},
   "outputs": [],
   "source": [
    "import os\n",
    "\n",
    "modules = []\n"
   ]
  },
  {
   "cell_type": "code",
   "execution_count": null,
   "metadata": {},
   "outputs": [],
   "source": [
    "for i in range(len(modules)):\n",
    "    n = str(i+1)\n",
    "    if len(n) == 1:\n",
    "        n = '0' + n\n",
    "    with open(\"moduland_analysis/module_gene_data/{n}_{modules}.txt\".format(n=n, modules=modules[i]), 'a') as f:\n",
    "        with open(\"moduland_analysis/level_0_module_top_10_genes.csv\", 'r') as csv_file:\n",
    "            module_genes = csv_file.readlines()\n",
    "        for module_gene_list in module_genes:\n",
    "            if module_gene_list.startswith(modules[i]):\n",
    "                module_genes = module_gene_list.strip('\\n').split(',')\n",
    "        for module_gene in module_genes:\n",
    "            f.write(module_gene)\n",
    "            f.write('\\n')"
   ]
  }
 ],
 "metadata": {
  "kernelspec": {
   "display_name": "Python 3",
   "language": "python",
   "name": "python3"
  },
  "language_info": {
   "codemirror_mode": {
    "name": "ipython",
    "version": 3
   },
   "file_extension": ".py",
   "mimetype": "text/x-python",
   "name": "python",
   "nbconvert_exporter": "python",
   "pygments_lexer": "ipython3",
   "version": "3.6.7"
  }
 },
 "nbformat": 4,
 "nbformat_minor": 2
}
